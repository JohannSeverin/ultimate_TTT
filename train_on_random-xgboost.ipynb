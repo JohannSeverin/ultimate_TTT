{
 "cells": [
  {
   "cell_type": "code",
   "execution_count": 1,
   "metadata": {
    "ExecuteTime": {
     "end_time": "2020-07-12T15:46:00.983804Z",
     "start_time": "2020-07-12T15:45:58.677472Z"
    }
   },
   "outputs": [],
   "source": [
    "import pandas as pd \n",
    "import os\n",
    "import numpy as np"
   ]
  },
  {
   "cell_type": "code",
   "execution_count": 2,
   "metadata": {
    "ExecuteTime": {
<<<<<<< HEAD
     "end_time": "2020-07-12T10:24:47.271741Z",
     "start_time": "2020-07-12T10:23:16.759308Z"
    }
   },
   "outputs": [
    {
     "name": "stdout",
     "output_type": "stream",
     "text": [
      "completed 0 games\n",
      "completed 250 games\n",
      "completed 500 games\n",
      "completed 750 games\n",
      "completed 1000 games\n",
      "completed 1250 games\n",
      "completed 1500 games\n",
      "completed 1750 games\n",
      "completed 2000 games\n",
      "completed 2250 games\n"
     ]
    }
   ],
=======
     "end_time": "2020-07-12T15:46:06.955463Z",
     "start_time": "2020-07-12T15:46:06.924770Z"
    }
   },
   "outputs": [],
>>>>>>> f0e3e18ece13e0310bb74a984eec4907177ac570
   "source": [
    "# Run the code\n",
    "data_path = \"data/\"\n",
    "\n",
<<<<<<< HEAD
    "# Remove already existing files\n",
    "remove = True\n",
=======
    "if \"data\" not in os.listdir():\n",
    "    os.mkdir(\"data\")\n",
    "\n",
    "# Remove already existing files\n",
    "remove = False\n",
>>>>>>> f0e3e18ece13e0310bb74a984eec4907177ac570
    "if remove:\n",
    "    for file in os.listdir(data_path):\n",
    "        os.remove(data_path + file)\n",
    "\n",
<<<<<<< HEAD
    "amount = 2500\n",
=======
    "amount = 0\n",
>>>>>>> f0e3e18ece13e0310bb74a984eec4907177ac570
    "for i in range(amount):\n",
    "    if i * 10 % amount == 0:\n",
    "        print(f\"completed {i} games\")\n",
    "    %run The_Arena.py"
   ]
  },
  {
   "cell_type": "code",
   "execution_count": 3,
   "metadata": {
    "ExecuteTime": {
<<<<<<< HEAD
     "end_time": "2020-07-12T10:24:47.282453Z",
     "start_time": "2020-07-12T10:24:47.274024Z"
=======
     "end_time": "2020-07-12T15:46:08.666420Z",
     "start_time": "2020-07-12T15:46:08.656428Z"
>>>>>>> f0e3e18ece13e0310bb74a984eec4907177ac570
    }
   },
   "outputs": [],
   "source": [
    "files = os.listdir(data_path)"
   ]
  },
  {
   "cell_type": "code",
   "execution_count": 4,
   "metadata": {
    "ExecuteTime": {
<<<<<<< HEAD
     "end_time": "2020-07-12T10:24:47.291403Z",
     "start_time": "2020-07-12T10:24:47.286138Z"
=======
     "end_time": "2020-07-12T15:46:08.848927Z",
     "start_time": "2020-07-12T15:46:08.834446Z"
>>>>>>> f0e3e18ece13e0310bb74a984eec4907177ac570
    }
   },
   "outputs": [],
   "source": [
    "file = data_path + files[5]"
   ]
  },
  {
   "cell_type": "code",
   "execution_count": 5,
   "metadata": {
    "ExecuteTime": {
<<<<<<< HEAD
     "end_time": "2020-07-12T10:24:53.096441Z",
     "start_time": "2020-07-12T10:24:53.091281Z"
=======
     "end_time": "2020-07-12T15:46:09.572951Z",
     "start_time": "2020-07-12T15:46:09.556972Z"
>>>>>>> f0e3e18ece13e0310bb74a984eec4907177ac570
    }
   },
   "outputs": [],
   "source": [
    "data = pd.read_pickle(file)"
   ]
  },
  {
   "cell_type": "code",
   "execution_count": 6,
   "metadata": {
    "ExecuteTime": {
<<<<<<< HEAD
     "end_time": "2020-07-12T10:24:58.651997Z",
     "start_time": "2020-07-12T10:24:53.101393Z"
=======
     "end_time": "2020-07-12T15:46:12.741312Z",
     "start_time": "2020-07-12T15:46:10.072466Z"
>>>>>>> f0e3e18ece13e0310bb74a984eec4907177ac570
    }
   },
   "outputs": [],
   "source": [
    "player1_X = []\n",
    "player1_Y = []\n",
    "player2_X = []\n",
    "player2_Y = []\n",
    "for filename in files:\n",
    "    data = pd.read_pickle(data_path + filename)\n",
    "    if data['winner'] == 1:\n",
    "        for i in range(len(data['board'])):\n",
    "            if data['tur'][i] == 1:\n",
    "                player1_X.append(np.concatenate([np.array(data['board'][i]).ravel(), np.array(data['ts'][i]).ravel(), np.array(data['gl_board'][i]).ravel()]))\n",
    "                player1_Y.append(data['move'][i][0] * 9 + data['move'][i][1])\n",
    "    if data['winner'] == 2:\n",
    "        for i in range(len(data['board'])):\n",
    "            if data['tur'][i] == 2:\n",
    "                player2_X.append(np.concatenate([np.array(data['board'][i]).ravel(), np.array(data['ts'][i]).ravel(), np.array(data['gl_board'][i]).ravel()]))\n",
    "                player2_Y.append(data['move'][i][0] * 9 + data['move'][i][1])\n",
    "    else:\n",
    "        continue"
   ]
  },
  {
   "cell_type": "code",
   "execution_count": 7,
   "metadata": {
    "ExecuteTime": {
<<<<<<< HEAD
     "end_time": "2020-07-12T10:30:48.834314Z",
     "start_time": "2020-07-12T10:30:48.830242Z"
=======
     "end_time": "2020-07-12T15:46:16.415966Z",
     "start_time": "2020-07-12T15:46:12.746591Z"
>>>>>>> f0e3e18ece13e0310bb74a984eec4907177ac570
    }
   },
   "outputs": [],
   "source": [
    "from xgboost import XGBClassifier"
   ]
  },
  {
   "cell_type": "code",
<<<<<<< HEAD
   "execution_count": 24,
   "metadata": {
    "ExecuteTime": {
     "start_time": "2020-07-12T10:54:38.326Z"
=======
   "execution_count": 8,
   "metadata": {
    "ExecuteTime": {
     "end_time": "2020-07-12T15:46:17.383300Z",
     "start_time": "2020-07-12T15:46:17.372103Z"
>>>>>>> f0e3e18ece13e0310bb74a984eec4907177ac570
    }
   },
   "outputs": [],
   "source": [
<<<<<<< HEAD
    "model = XGBClassifier(verbosity = 1, max_depth = 9)"
=======
    "model = XGBClassifier(verbosity = 1)"
>>>>>>> f0e3e18ece13e0310bb74a984eec4907177ac570
   ]
  },
  {
   "cell_type": "code",
<<<<<<< HEAD
   "execution_count": 25,
   "metadata": {
    "ExecuteTime": {
     "start_time": "2020-07-12T10:54:01.635Z"
=======
   "execution_count": 10,
   "metadata": {
    "ExecuteTime": {
     "end_time": "2020-07-12T15:49:54.429974Z",
     "start_time": "2020-07-12T15:46:46.011761Z"
>>>>>>> f0e3e18ece13e0310bb74a984eec4907177ac570
    }
   },
   "outputs": [
    {
     "data": {
      "text/plain": [
       "XGBClassifier(base_score=0.5, booster='gbtree', colsample_bylevel=1,\n",
<<<<<<< HEAD
       "              colsample_bynode=1, colsample_bytree=1, gamma=0,\n",
       "              learning_rate=0.1, max_delta_step=0, max_depth=9,\n",
       "              min_child_weight=1, missing=None, n_estimators=100, n_jobs=1,\n",
       "              nthread=None, objective='multi:softprob', random_state=0,\n",
       "              reg_alpha=0, reg_lambda=1, scale_pos_weight=1, seed=None,\n",
       "              silent=None, subsample=1, verbosity=1)"
      ]
     },
     "execution_count": 25,
=======
       "              colsample_bynode=1, colsample_bytree=1, gamma=0, gpu_id=-1,\n",
       "              importance_type='gain', interaction_constraints='',\n",
       "              learning_rate=0.300000012, max_delta_step=0, max_depth=6,\n",
       "              min_child_weight=1, missing=nan, monotone_constraints='()',\n",
       "              n_estimators=100, n_jobs=0, num_parallel_tree=1,\n",
       "              objective='multi:softprob', random_state=0, reg_alpha=0,\n",
       "              reg_lambda=1, scale_pos_weight=None, subsample=1,\n",
       "              tree_method='exact', validate_parameters=1, verbosity=1)"
      ]
     },
     "execution_count": 10,
>>>>>>> f0e3e18ece13e0310bb74a984eec4907177ac570
     "metadata": {},
     "output_type": "execute_result"
    }
   ],
   "source": [
    "model.fit(np.array(player1_X[500:]), np.array(player1_Y[500:]))"
   ]
  },
  {
   "cell_type": "code",
<<<<<<< HEAD
   "execution_count": 33,
=======
   "execution_count": 12,
>>>>>>> f0e3e18ece13e0310bb74a984eec4907177ac570
   "metadata": {
    "ExecuteTime": {
     "end_time": "2020-07-12T15:52:07.584955Z",
     "start_time": "2020-07-12T15:52:07.495001Z"
    },
    "code_folding": []
   },
   "outputs": [],
   "source": [
    "def glob_update(board):\n",
    "\tglob_board = []\n",
    "\tfor i in range(len(board)):\n",
    "\t\tarr = np.array(board[i]).reshape(3,3)\n",
    "\t\tones, twos = arr == 1, arr == 2\n",
    "\t\tif any(np.sum(ones, axis = 0)) == 3 \\\n",
    "\t\t\tor any(np.sum(ones, axis = 1) == 3) \\\n",
    "\t\t\tor np.trace(ones) == 3 \\\n",
    "\t\t\tor np.trace(np.rot90(ones)) == 3:\n",
    "\t\t\tglob_board.append(1)\n",
    "\n",
    "\t\telif any(np.sum(twos, axis = 0)) == 3 \\\n",
    "\t\t\tor any(np.sum(twos, axis = 1) == 3) \\\n",
    "\t\t\tor np.trace(twos) == 3 \\\n",
    "\t\t\tor np.trace(np.rot90(twos)) == 3:\n",
    "\t\t\tglob_board.append(2)\n",
    "\t\telse:\n",
    "\t\t\tglob_board.append(0)\n",
    "\treturn glob_board\n",
    "\n",
    "# def Player2(B, t, won):\n",
    "\n",
    "# \tif t == 9:\n",
    "# \t\tavail_glob = np.array(won) == 0\n",
    "# \t\t# print(avail_glob)\n",
    "# \t\ta = np.random.choice(avail_glob.nonzero()[0])\n",
    "# \telse:\n",
    "# \t\ta = t\n",
    "\n",
    "# \tloc = np.array(B[a])\n",
    "\n",
    "# \tavail = loc == 0\n",
    "\n",
    "# \tb = np.random.choice(avail.nonzero()[0])\n",
    "\n",
    "# \treturn a, b\n",
    "\n",
    "def availible_moves(board, t, won):\n",
    "\t# Return all availible moves in a, b format.\n",
    "\t# Return None if no moves are availible\n",
    "\n",
    "\tif t == 9: # Return all availible fields if no board is forced\n",
    "\t\tmoves = []\n",
    "\t\tfor i in range(len(board)):\n",
    "\t\t\tif won[i] == 0:\n",
    "\t\t\t\tbs = np.array(board[i]) == 0\n",
    "\t\t\t\tmoves.extend([i * 9 + b for b in bs.nonzero()[0]])\n",
    "\t\treturn moves\n",
    "\n",
    "\telse:\t # Return field in the forced board\n",
    "\t\tlocal = board[t]\n",
    "\t\ta = t\n",
    "\t\tbs = np.array(local) == 0\n",
    "\t\tif np.sum(bs) == 0:\n",
    "\t\t\treturn None\n",
    "\t\telse:\n",
    "\t\t\treturn [a * 9 +  b for b in bs.nonzero()[0]]\n",
    "\n",
    "\n",
    "\n",
    "def Player1(board, t, won):\n",
    "    avail = availible_moves(board, t, won)\n",
    "    \n",
    "    x = np.concatenate([np.array([board]).ravel(), np.array(t).ravel(), np.array(won).ravel()])\n",
<<<<<<< HEAD
    "    y = model.predict_proba(x.reshape(1, 91))\n",
    "    \n",
    "#     print(y)\n",
    "    \n",
    "    choice = np.random.choice(avail, p = y[0][avail] / sum(y[0][avail]))\n",
    "    \n",
    "    return choice // 9, choice % 9\n",
    "\n",
    "\n",
    "def Player2(board, t, won):\n",
    "    avail = availible_moves(board, t, won)\n",
    "    \n",
    "    x = np.concatenate([np.array([board]).ravel(), np.array(t).ravel(), np.array(won).ravel()])\n",
    "    y = model.predict_proba(x.reshape(1, 91))\n",
    "    \n",
    "#     print(y)\n",
    "    \n",
    "    choice = np.random.choice(avail, p = y[0][avail] / sum(y[0][avail]))\n",
    "    \n",
=======
    "    y = model.predict_proba(x.reshape(1, 91))[0][avail]\n",
    "    \n",
    "    choice = np.random.choice(avail, p = y / sum(y))\n",
    "\n",
>>>>>>> f0e3e18ece13e0310bb74a984eec4907177ac570
    "    return choice // 9, choice % 9\n",
    "\n",
    "\n",
    "# def Player2(board, t, won):\n",
    "#     avail = availible_moves(board, t, won)\n",
    "    \n",
    "#     x = np.concatenate([np.array([board]).ravel(), np.array(t).ravel(), np.array(won).ravel()])\n",
    "#     y = np.array(model_player2(x.reshape(1, 91)))\n",
    "#     return avail[y[0, avail].argmax()] // 9, avail[y[0, avail].argmax()]% 9\n",
    "\n",
    "# For random function uncomment\n",
    "# from Johanns_funktioner import Player2#, Player2 # De to funktioner fra player_generation importeres"
   ]
  },
  {
   "cell_type": "code",
<<<<<<< HEAD
   "execution_count": 34,
=======
   "execution_count": 15,
>>>>>>> f0e3e18ece13e0310bb74a984eec4907177ac570
   "metadata": {
    "ExecuteTime": {
     "end_time": "2020-07-12T15:55:30.677658Z",
     "start_time": "2020-07-12T15:54:33.390410Z"
    },
    "code_folding": [],
    "scrolled": false
   },
   "outputs": [],
   "source": [
    "import sys\n",
    "import random as rng\n",
    "import numpy as np\n",
    "import pandas as pd\n",
    "import os\n",
    "\n",
    "Won1, Won2, Tie = 0, 0, 0\n",
    "\n",
    "for i in range(250):\n",
    "\n",
    "    data = {'board': [],\n",
    "            'gl_board': [],\n",
    "            'ts':    [],\n",
    "            'move':  [],\n",
    "            'winner': 0}\n",
    "\n",
    "    board = [] \n",
    "    won = []\n",
    "    winner = 0\n",
    "    T = 9\n",
    "    tur = 1\n",
    "\n",
    "    ### Laver bordet\n",
    "    for i in range(9):\n",
    "        board.append([])\n",
    "        won.append(0)\n",
    "    for i in range(9):\n",
    "        for j in range(9):\n",
    "            board[i].append(0)\n",
    "\n",
    "    \n",
    "\n",
    "\n",
    "\n",
    "    while winner == 0:\n",
    "        data['board'].append(board)\n",
    "        data['ts'].append(T)\n",
    "        data['gl_board'].append(won)\n",
    "        if tur ==1:\n",
    "            a,b = Player1(board,T, won)\n",
    "        elif tur == 2:\n",
    "            a,b = Player2(board,T, won)\n",
    "        if T !=9: ## tjekker om det er et gyldigt træk. Et træk kan være ugyldigt hvis, det ikke er på det tvungne local board, feltet allerede er taget eller local boardet er vundet.\n",
    "            if a != T:\n",
    "                print(f'Player{tur} snyder')\n",
    "                sys.exit()\n",
    "        if board[a][b] != 0:\n",
    "            print(f'Player{tur} prøver at tage et taget felt')\n",
    "            sys.exit()\n",
    "        if won[a] != 0:\n",
    "            print(f'Player{tur} prøver at tage på et vundet mini spil')\n",
    "            sys.exit()\n",
    "        board[a][b] = tur # Trækket tages\n",
    "        data['move'].append((a, b))\n",
    "        ### Tjekker om der er nogen der har vundet på mini borene \n",
    "        for i in range(9):\n",
    "            if won[i] == 0:\n",
    "                # Tjekker om der er nogen spil der er blevet uafgjort og sætter dem til 3 i won listen.\n",
    "                if any((True for x in board[i] if x == 0)) == False:\n",
    "                    won[i] = 3\n",
    "                for j in range(3):\n",
    "                    if [board[i][j*3],board[i][j*3+1],board[i][j*3+2]] == [1,1,1]:\n",
    "                        won[i] = 1\n",
    "                        break\n",
    "                    elif [board[i][j*3],board[i][j*3+1],board[i][j*3+2]] == [2,2,2]:\n",
    "                        won[i] = 2\n",
    "                        break\n",
    "                    elif [board[i][j],board[i][j+3],board[i][j+6]] == [1,1,1]:\n",
    "                        won[i] = 1\n",
    "                        break\n",
    "                    elif [board[i][j],board[i][j+3],board[i][j+6]] == [2,2,2]:\n",
    "                        won[i] = 2\n",
    "                        break\n",
    "                if [board[i][0],board[i][4],board[i][8]] == [1,1,1]:\n",
    "                        won[i] = 1\n",
    "                        break\n",
    "                elif [board[i][0],board[i][4],board[i][8]] == [2,2,2]:\n",
    "                        won[i] = 2\n",
    "                        break\n",
    "                elif [board[i][2],board[i][4],board[i][6]] == [1,1,1]:\n",
    "                        won[i] = 1\n",
    "                        break\n",
    "                elif [board[i][2],board[i][4],board[i][6]] == [2,2,2]:\n",
    "                        won[i] = 2\n",
    "                        break\n",
    "        ## Tjekker om der er nogen der har vundet hele spillet.\n",
    "        for j in range(3):\n",
    "            if [won[j*3],won[j*3+1],won[j*3+2]] == [1,1,1]:\n",
    "                winner = 1\n",
    "                break\n",
    "            elif [won[j*3],won[j*3+1],won[j*3+2]] == [2,2,2]:\n",
    "                winner = 2\n",
    "                break\n",
    "            elif [won[j],won[j+3],won[j+6]] == [1,1,1]:\n",
    "                winner = 1\n",
    "                break\n",
    "            elif [won[j],won[j+3],won[j+6]] == [2,2,2]:\n",
    "                winner = 2\n",
    "                break\n",
    "        if [won[0],won[4],won[8]] == [1,1,1]:\n",
    "            winner = 1\n",
    "        elif [won[0],won[4],won[8]] == [2,2,2]:\n",
    "            winner = 2\n",
    "        elif [won[2],won[4],won[6]] == [1,1,1]:\n",
    "            winner = 1\n",
    "        elif [won[2],won[4],won[6]] == [2,2,2]:\n",
    "            winner = 2\n",
    "        if any((True for x in won if x == 0)) == False:\n",
    "#             print('TIE')\n",
    "            break\n",
    "            # print(board)\n",
    "    #         sys.exit()\n",
    "        ## Opdatere hvad det tvungne local board er\n",
    "        if won[b] != 0 or any((True for x in board[b] if x == 0)) == False: # bestemmer hvad det tvungne local board er, hvis local boardet er vundet eller uafgjort bliver T=9 hvilket svare til fri.\n",
    "            T = 9\n",
    "        elif won[b] == 0:\n",
    "            T = b\n",
    "        ## Opdatere hvis tur det er\n",
    "        if tur ==1:\n",
    "            tur = 2\n",
    "        elif tur == 2:\n",
    "            tur = 1\n",
    "\n",
    "\n",
    "        if winner != 0:\n",
    "            data['winner'] = winner  \n",
    "#             print(f'AND THE WINNER IS ......... PLAYER {winner}')\n",
    "            break\n",
    "    \n",
    "    if winner == 1:\n",
    "        Won1 += 1\n",
    "    elif winner == 2:\n",
    "        Won2 += 1   \n",
    "    elif winner == 0:\n",
    "        Tie += 1"
   ]
  },
  {
   "cell_type": "code",
<<<<<<< HEAD
   "execution_count": 35,
=======
   "execution_count": 16,
>>>>>>> f0e3e18ece13e0310bb74a984eec4907177ac570
   "metadata": {
    "ExecuteTime": {
     "end_time": "2020-07-12T15:55:30.731563Z",
     "start_time": "2020-07-12T15:55:30.682918Z"
    }
   },
   "outputs": [
    {
     "name": "stdout",
     "output_type": "stream",
     "text": [
<<<<<<< HEAD
      "Player1: 106, Player2: 83, Tie: 61\n"
=======
      "Player1: 99, Player2: 88, Tie: 63\n"
>>>>>>> f0e3e18ece13e0310bb74a984eec4907177ac570
     ]
    }
   ],
   "source": [
    "print(f\"Player1: {Won1}, Player2: {Won2}, Tie: {Tie}\")"
   ]
  },
  {
   "cell_type": "code",
   "execution_count": 23,
   "metadata": {},
   "outputs": [
    {
     "data": {
      "text/plain": [
       "[[0, 1, 1, 0, 1, 1, 0, 2, 2],\n",
       " [2, 2, 0, 0, 2, 0, 0, 2, 1],\n",
       " [1, 1, 2, 2, 0, 1, 0, 1, 0],\n",
       " [0, 1, 0, 0, 0, 1, 1, 1, 0],\n",
       " [2, 1, 0, 2, 0, 0, 1, 0, 0],\n",
       " [2, 2, 2, 0, 1, 0, 1, 1, 0],\n",
       " [0, 0, 2, 0, 0, 2, 1, 0, 2],\n",
       " [2, 2, 1, 2, 0, 2, 2, 1, 1],\n",
       " [1, 1, 2, 2, 2, 2, 0, 0, 1]]"
      ]
     },
     "execution_count": 23,
     "metadata": {},
     "output_type": "execute_result"
    }
   ],
   "source": [
    "board"
   ]
  },
  {
   "cell_type": "code",
   "execution_count": null,
   "metadata": {},
   "outputs": [],
   "source": []
  }
 ],
 "metadata": {
  "kernelspec": {
   "display_name": "Python 3",
   "language": "python",
   "name": "python3"
  },
  "language_info": {
   "codemirror_mode": {
    "name": "ipython",
    "version": 3
   },
   "file_extension": ".py",
   "mimetype": "text/x-python",
   "name": "python",
   "nbconvert_exporter": "python",
   "pygments_lexer": "ipython3",
   "version": "3.7.4"
  },
  "latex_envs": {
   "LaTeX_envs_menu_present": true,
   "autoclose": false,
   "autocomplete": true,
   "bibliofile": "biblio.bib",
   "cite_by": "apalike",
   "current_citInitial": 1,
   "eqLabelWithNumbers": true,
   "eqNumInitial": 1,
   "hotkeys": {
    "equation": "Ctrl-E",
    "itemize": "Ctrl-I"
   },
   "labels_anchors": false,
   "latex_user_defs": false,
   "report_style_numbering": false,
   "user_envs_cfg": false
  },
  "toc": {
   "base_numbering": 1,
   "nav_menu": {},
   "number_sections": true,
   "sideBar": true,
   "skip_h1_title": true,
   "title_cell": "Table of Contents",
   "title_sidebar": "Contents",
   "toc_cell": false,
   "toc_position": {},
   "toc_section_display": true,
   "toc_window_display": false
  }
 },
 "nbformat": 4,
 "nbformat_minor": 4
}
