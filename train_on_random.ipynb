{
 "cells": [
  {
   "cell_type": "code",
   "execution_count": 25,
   "metadata": {
    "ExecuteTime": {
     "end_time": "2020-07-07T14:37:16.278197Z",
     "start_time": "2020-07-07T14:37:16.274143Z"
    }
   },
   "outputs": [],
   "source": [
    "import pandas as pd \n",
    "import os"
   ]
  },
  {
   "cell_type": "code",
   "execution_count": 26,
   "metadata": {
    "ExecuteTime": {
     "end_time": "2020-07-07T14:37:26.217662Z",
     "start_time": "2020-07-07T14:37:16.481980Z"
    }
   },
   "outputs": [],
   "source": [
    "# Run the code\n",
    "data_path = \"data/\"\n",
    "\n",
    "# Remove already existing files\n",
    "remove = True\n",
    "if remove:\n",
    "    for file in os.listdir(data_path):\n",
    "        os.remove(data_path + file)\n",
    "\n",
    "amount = 1000\n",
    "for i in range(amount):\n",
    "    %run The_Arena.py"
   ]
  },
  {
   "cell_type": "code",
   "execution_count": 27,
   "metadata": {
    "ExecuteTime": {
     "end_time": "2020-07-07T14:37:26.224317Z",
     "start_time": "2020-07-07T14:37:26.220569Z"
    }
   },
   "outputs": [],
   "source": [
    "import tensorflow as tf\n",
    "from tensorflow import keras"
   ]
  },
  {
   "cell_type": "code",
   "execution_count": 28,
   "metadata": {
    "ExecuteTime": {
     "end_time": "2020-07-07T14:37:26.232668Z",
     "start_time": "2020-07-07T14:37:26.226878Z"
    }
   },
   "outputs": [],
   "source": [
    "files = os.listdir(data_path)"
   ]
  },
  {
   "cell_type": "code",
   "execution_count": 29,
   "metadata": {
    "ExecuteTime": {
     "end_time": "2020-07-07T14:37:26.238957Z",
     "start_time": "2020-07-07T14:37:26.235403Z"
    }
   },
   "outputs": [],
   "source": [
    "file = data_path + files[5]"
   ]
  },
  {
   "cell_type": "code",
   "execution_count": 30,
   "metadata": {
    "ExecuteTime": {
     "end_time": "2020-07-07T14:37:26.246903Z",
     "start_time": "2020-07-07T14:37:26.241254Z"
    }
   },
   "outputs": [],
   "source": [
    "data = pd.read_pickle(file)"
   ]
  },
  {
   "cell_type": "code",
   "execution_count": 31,
   "metadata": {
    "ExecuteTime": {
     "end_time": "2020-07-07T14:37:26.255138Z",
     "start_time": "2020-07-07T14:37:26.250325Z"
    }
   },
   "outputs": [
    {
     "data": {
      "text/plain": [
       "1"
      ]
     },
     "execution_count": 31,
     "metadata": {},
     "output_type": "execute_result"
    }
   ],
   "source": [
    "data['winner']"
   ]
  },
  {
   "cell_type": "code",
   "execution_count": null,
   "metadata": {},
   "outputs": [],
   "source": []
  }
 ],
 "metadata": {
  "kernelspec": {
   "display_name": "Python 3",
   "language": "python",
   "name": "python3"
  },
  "language_info": {
   "codemirror_mode": {
    "name": "ipython",
    "version": 3
   },
   "file_extension": ".py",
   "mimetype": "text/x-python",
   "name": "python",
   "nbconvert_exporter": "python",
   "pygments_lexer": "ipython3",
   "version": "3.7.6"
  },
  "toc": {
   "base_numbering": 1,
   "nav_menu": {},
   "number_sections": true,
   "sideBar": true,
   "skip_h1_title": true,
   "title_cell": "Table of Contents",
   "title_sidebar": "Contents",
   "toc_cell": false,
   "toc_position": {},
   "toc_section_display": true,
   "toc_window_display": false
  }
 },
 "nbformat": 4,
 "nbformat_minor": 4
}
